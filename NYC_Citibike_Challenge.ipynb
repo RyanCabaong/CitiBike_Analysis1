{
 "cells": [
  {
   "cell_type": "code",
   "execution_count": 39,
   "id": "45089a4b",
   "metadata": {},
   "outputs": [],
   "source": [
    "import os\n",
    "import pandas as pd"
   ]
  },
  {
   "cell_type": "code",
   "execution_count": 40,
   "id": "5b7c5f5f",
   "metadata": {},
   "outputs": [
    {
     "data": {
      "text/plain": [
       "0           393\n",
       "1           627\n",
       "2          1132\n",
       "3          1780\n",
       "4          1517\n",
       "           ... \n",
       "2344219     216\n",
       "2344220     117\n",
       "2344221    1614\n",
       "2344222    1301\n",
       "2344223     419\n",
       "Name: tripduration, Length: 2344224, dtype: int64"
      ]
     },
     "execution_count": 40,
     "metadata": {},
     "output_type": "execute_result"
    }
   ],
   "source": [
    "# Load in csv\n",
    "file = \"201908-citibike-tripdata.csv\"\n",
    "citibike_df = pd.read_csv(os.path.join(r\"C:\\Users\\ryanc\\OneDrive\\Desktop\\bikesharing\\citibike-tripdata\" ,file))\n",
    "citibike_df[\"tripduration\"]"
   ]
  },
  {
   "cell_type": "code",
   "execution_count": 41,
   "id": "f8bc5ec4",
   "metadata": {},
   "outputs": [
    {
     "data": {
      "text/plain": [
       "0         1970-01-01 00:06:33\n",
       "1         1970-01-01 00:10:27\n",
       "2         1970-01-01 00:18:52\n",
       "3         1970-01-01 00:29:40\n",
       "4         1970-01-01 00:25:17\n",
       "                  ...        \n",
       "2344219   1970-01-01 00:03:36\n",
       "2344220   1970-01-01 00:01:57\n",
       "2344221   1970-01-01 00:26:54\n",
       "2344222   1970-01-01 00:21:41\n",
       "2344223   1970-01-01 00:06:59\n",
       "Name: tripduration, Length: 2344224, dtype: datetime64[ns]"
      ]
     },
     "execution_count": 41,
     "metadata": {},
     "output_type": "execute_result"
    }
   ],
   "source": [
    "citibike_df['tripduration'] = pd.to_datetime(citibike_df['tripduration'], unit = \"s\")\n",
    "citibike_df['tripduration']"
   ]
  },
  {
   "cell_type": "code",
   "execution_count": 42,
   "id": "c8a31147",
   "metadata": {},
   "outputs": [],
   "source": [
    "citibike_df.to_csv(r'C:\\Users\\ryanc\\OneDrive\\Desktop\\bikesharing\\citibike_data_3.csv')"
   ]
  },
  {
   "cell_type": "code",
   "execution_count": 43,
   "id": "3008a591",
   "metadata": {},
   "outputs": [
    {
     "name": "stdout",
     "output_type": "stream",
     "text": [
      "tripduration               datetime64[ns]\n",
      "starttime                          object\n",
      "stoptime                           object\n",
      "start station id                  float64\n",
      "start station name                 object\n",
      "start station latitude            float64\n",
      "start station longitude           float64\n",
      "end station id                    float64\n",
      "end station name                   object\n",
      "end station latitude              float64\n",
      "end station longitude             float64\n",
      "bikeid                              int64\n",
      "usertype                           object\n",
      "birth year                          int64\n",
      "gender                              int64\n",
      "dtype: object\n"
     ]
    }
   ],
   "source": [
    "print(citibike_df.dtypes)"
   ]
  },
  {
   "cell_type": "code",
   "execution_count": null,
   "id": "d233e61f",
   "metadata": {},
   "outputs": [],
   "source": []
  }
 ],
 "metadata": {
  "kernelspec": {
   "display_name": "PythonData",
   "language": "python",
   "name": "pythondata"
  },
  "language_info": {
   "codemirror_mode": {
    "name": "ipython",
    "version": 3
   },
   "file_extension": ".py",
   "mimetype": "text/x-python",
   "name": "python",
   "nbconvert_exporter": "python",
   "pygments_lexer": "ipython3",
   "version": "3.9.7"
  }
 },
 "nbformat": 4,
 "nbformat_minor": 5
}
